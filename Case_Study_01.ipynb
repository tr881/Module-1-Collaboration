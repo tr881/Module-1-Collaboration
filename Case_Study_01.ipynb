{
 "cells": [
  {
   "cell_type": "code",
   "execution_count": null,
   "id": "2e7d1c94-50bc-4864-a6cc-287baa660b8d",
   "metadata": {},
   "outputs": [
    {
     "name": "stdin",
     "output_type": "stream",
     "text": [
      "last name:  beyenal\n",
      "first name:  tarik\n",
      "GPA:  3.5\n"
     ]
    },
    {
     "name": "stdout",
     "output_type": "stream",
     "text": [
      "tarik beyenal has made the Dean's List!\n"
     ]
    },
    {
     "name": "stdin",
     "output_type": "stream",
     "text": [
      "last name:  brown\n",
      "first name:  henry\n",
      "GPA:  3.2\n"
     ]
    },
    {
     "name": "stdout",
     "output_type": "stream",
     "text": [
      "henry brown didn't qualify for the Dean's List or Honor Roll.\n"
     ]
    }
   ],
   "source": [
    "while True:\n",
    "    last_name = input(\"last name: \")\n",
    "    if last_name == 'ZZZ':\n",
    "        print(\"Exiting\")\n",
    "        break\n",
    "\n",
    "    first_name = input(\"first name: \")\n",
    "\n",
    "    try:\n",
    "        gpa = float(input(\"GPA: \"))\n",
    "    except ValueError:\n",
    "        print(\"please enter a valid number.\")\n",
    "        continue\n",
    "\n",
    "    if gpa >= 3.5:\n",
    "        print(f\"{first_name} {last_name} has made the Dean's List!\")\n",
    "    elif gpa >= 3.25:\n",
    "        print(f\"{first_name} {last_name} has made the Honor Roll!\")\n",
    "    else:\n",
    "        print(f\"{first_name} {last_name} didn't qualify for the Dean's List or Honor Roll.\")"
   ]
  }
 ],
 "metadata": {
  "kernelspec": {
   "display_name": "Python [conda env:base] *",
   "language": "python",
   "name": "conda-base-py"
  },
  "language_info": {
   "codemirror_mode": {
    "name": "ipython",
    "version": 3
   },
   "file_extension": ".py",
   "mimetype": "text/x-python",
   "name": "python",
   "nbconvert_exporter": "python",
   "pygments_lexer": "ipython3",
   "version": "3.12.7"
  }
 },
 "nbformat": 4,
 "nbformat_minor": 5
}
