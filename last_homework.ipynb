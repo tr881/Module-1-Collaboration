{
 "cells": [
  {
   "cell_type": "code",
   "execution_count": 4,
   "id": "fe49c57e-2a6b-4764-90fb-6156a6a7d8b7",
   "metadata": {},
   "outputs": [
    {
     "name": "stdout",
     "output_type": "stream",
     "text": [
      "3600\n",
      "Seconds per hour: 3600\n",
      "86400\n",
      "Seconds per day: 86400\n",
      "24.0\n",
      "24\n"
     ]
    }
   ],
   "source": [
    "print(60*60)\n",
    "\n",
    "seconds_per_hour = 60 * 60\n",
    "print(\"Seconds per hour:\", seconds_per_hour)\n",
    "\n",
    "print(seconds_per_hour * 24)\n",
    "\n",
    "seconds_per_hour = 60 * 60\n",
    "seconds_per_day = seconds_per_hour * 24\n",
    "print(\"Seconds per day:\", seconds_per_day)\n",
    "\n",
    "seconds_per_hour = 60 * 60\n",
    "seconds_per_day = seconds_per_hour * 24\n",
    "result = seconds_per_day / seconds_per_hour\n",
    "print(result)\n",
    "\n",
    "seconds_per_hour = 60 * 60\n",
    "seconds_per_day = seconds_per_hour * 24\n",
    "result2 = seconds_per_day // seconds_per_hour\n",
    "print(result2)"
   ]
  },
  {
   "cell_type": "code",
   "execution_count": null,
   "id": "2a8f818a-4505-49ad-a80c-0af5c5e2188b",
   "metadata": {},
   "outputs": [],
   "source": [
    "yes"
   ]
  },
  {
   "cell_type": "code",
   "execution_count": null,
   "id": "566a9778-877d-450b-8829-2e810474c101",
   "metadata": {},
   "outputs": [],
   "source": []
  }
 ],
 "metadata": {
  "kernelspec": {
   "display_name": "Python [conda env:base] *",
   "language": "python",
   "name": "conda-base-py"
  },
  "language_info": {
   "codemirror_mode": {
    "name": "ipython",
    "version": 3
   },
   "file_extension": ".py",
   "mimetype": "text/x-python",
   "name": "python",
   "nbconvert_exporter": "python",
   "pygments_lexer": "ipython3",
   "version": "3.12.7"
  }
 },
 "nbformat": 4,
 "nbformat_minor": 5
}
